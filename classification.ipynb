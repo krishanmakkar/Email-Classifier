{
 "cells": [
  {
   "cell_type": "code",
   "execution_count": 1,
   "metadata": {},
   "outputs": [],
   "source": [
    "import pandas as pd \n",
    "import numpy as np\n",
    "import sys\n",
    "import sklearn\n",
    "import nltk\n",
    "import matplotlib.pyplot as plt\n",
    "from sklearn import model_selection\n",
    "from nltk.classify.scikitlearn import SklearnClassifier"
   ]
  },
  {
   "cell_type": "code",
   "execution_count": 2,
   "metadata": {},
   "outputs": [
    {
     "name": "stdout",
     "output_type": "stream",
     "text": [
      "['Combined File - 01.08.2019']\n",
      "<class 'pandas.core.frame.DataFrame'>\n",
      "RangeIndex: 134756 entries, 0 to 134755\n",
      "Data columns (total 7 columns):\n",
      "Case Owner             134756 non-null object\n",
      "Subject                134750 non-null object\n",
      "Description            134720 non-null object\n",
      "Date/Time Opened       134756 non-null datetime64[ns]\n",
      "Closed                 134756 non-null int64\n",
      "Queue in Salesforce    134756 non-null object\n",
      "Unnamed: 6             206 non-null object\n",
      "dtypes: datetime64[ns](1), int64(1), object(5)\n",
      "memory usage: 7.2+ MB\n"
     ]
    }
   ],
   "source": [
    "#Importing Excel File as a DataFrame\n",
    "file = 'data.xlsx'\n",
    "data = pd.ExcelFile(file)\n",
    "print(data.sheet_names)\n",
    "df = data.parse('Combined File - 01.08.2019')\n",
    "df.info()"
   ]
  },
  {
   "cell_type": "code",
   "execution_count": 4,
   "metadata": {},
   "outputs": [
    {
     "name": "stdout",
     "output_type": "stream",
     "text": [
      "['Case Owner', 'Subject', 'Description', 'Date/Time Opened', 'Closed', 'Queue in Salesforce', 'Unnamed: 6']\n"
     ]
    }
   ],
   "source": [
    "# Check all columns of DataFrame, drop unnecessary ones \n",
    "print(df.columns.values.tolist())\n",
    "df.drop(['Date/Time Opened'], axis = 1, inplace = True )"
   ]
  },
  {
   "cell_type": "code",
   "execution_count": 3,
   "metadata": {},
   "outputs": [
    {
     "name": "stdout",
     "output_type": "stream",
     "text": [
      "Case Owner                  0\n",
      "Subject                     0\n",
      "Description                 0\n",
      "Date/Time Opened            0\n",
      "Closed                      0\n",
      "Queue in Salesforce         0\n",
      "Unnamed: 6             134550\n",
      "dtype: int64\n"
     ]
    }
   ],
   "source": [
    "#checking for null values \n",
    "df.isnull().sum()\n",
    "df[\"Subject\"].fillna(\"No Subject\", inplace = True)\n",
    "df[\"Description\"].fillna(\"No Description\", inplace = True)\n",
    "print(df.isnull().sum())\n"
   ]
  },
  {
   "cell_type": "code",
   "execution_count": 4,
   "metadata": {},
   "outputs": [
    {
     "name": "stdout",
     "output_type": "stream",
     "text": [
      "1    132334\n",
      "0      2422\n",
      "Name: Closed, dtype: int64\n",
      "Manoj Purohit                  18790\n",
      "Himanshu Rajput                 5806\n",
      "Sunny Thakkar                   5684\n",
      "Priyanka Maharaj                5674\n",
      "Mayur Saraswat                  5549\n",
      "                               ...  \n",
      "Nirav Solanki                      1\n",
      "Venkata Mahendra Prattipati        1\n",
      "Arun Sudershan                     1\n",
      "Regan Curry                        1\n",
      "Santhosh Babu Eranti               1\n",
      "Name: Case Owner, Length: 163, dtype: int64\n"
     ]
    },
    {
     "data": {
      "text/html": [
       "<div>\n",
       "<style scoped>\n",
       "    .dataframe tbody tr th:only-of-type {\n",
       "        vertical-align: middle;\n",
       "    }\n",
       "\n",
       "    .dataframe tbody tr th {\n",
       "        vertical-align: top;\n",
       "    }\n",
       "\n",
       "    .dataframe thead th {\n",
       "        text-align: right;\n",
       "    }\n",
       "</style>\n",
       "<table border=\"1\" class=\"dataframe\">\n",
       "  <thead>\n",
       "    <tr style=\"text-align: right;\">\n",
       "      <th></th>\n",
       "      <th>Closed</th>\n",
       "    </tr>\n",
       "  </thead>\n",
       "  <tbody>\n",
       "    <tr>\n",
       "      <td>count</td>\n",
       "      <td>134756.000000</td>\n",
       "    </tr>\n",
       "    <tr>\n",
       "      <td>mean</td>\n",
       "      <td>0.982027</td>\n",
       "    </tr>\n",
       "    <tr>\n",
       "      <td>std</td>\n",
       "      <td>0.132855</td>\n",
       "    </tr>\n",
       "    <tr>\n",
       "      <td>min</td>\n",
       "      <td>0.000000</td>\n",
       "    </tr>\n",
       "    <tr>\n",
       "      <td>25%</td>\n",
       "      <td>1.000000</td>\n",
       "    </tr>\n",
       "    <tr>\n",
       "      <td>50%</td>\n",
       "      <td>1.000000</td>\n",
       "    </tr>\n",
       "    <tr>\n",
       "      <td>75%</td>\n",
       "      <td>1.000000</td>\n",
       "    </tr>\n",
       "    <tr>\n",
       "      <td>max</td>\n",
       "      <td>1.000000</td>\n",
       "    </tr>\n",
       "  </tbody>\n",
       "</table>\n",
       "</div>"
      ],
      "text/plain": [
       "              Closed\n",
       "count  134756.000000\n",
       "mean        0.982027\n",
       "std         0.132855\n",
       "min         0.000000\n",
       "25%         1.000000\n",
       "50%         1.000000\n",
       "75%         1.000000\n",
       "max         1.000000"
      ]
     },
     "execution_count": 4,
     "metadata": {},
     "output_type": "execute_result"
    }
   ],
   "source": [
    "print(df['Closed'].value_counts(dropna = False))\n",
    "print(df['Case Owner'].value_counts(dropna = False))\n",
    "df.describe()\n"
   ]
  },
  {
   "cell_type": "code",
   "execution_count": 5,
   "metadata": {},
   "outputs": [],
   "source": [
    "from sklearn.preprocessing import LabelEncoder\n",
    "\n",
    "# convert class labels to binary values\n",
    "\n",
    "encoder = LabelEncoder()\n",
    "y = encoder.fit_transform(df['Queue in Salesforce'])\n"
   ]
  },
  {
   "cell_type": "code",
   "execution_count": 6,
   "metadata": {},
   "outputs": [],
   "source": [
    "# Replacing Email Adresses in all columns with a simple string\n",
    "df['Subject'] = df['Subject'].str.replace(r'^.+@[^\\.].*\\.[a-z]{2,}$','emailadd')\n",
    "df['Description'] = df['Description'].str.replace(r'^.+@[^\\.].*\\.[a-z]{2,}$','emailadd')\n",
    "\n"
   ]
  },
  {
   "cell_type": "code",
   "execution_count": 7,
   "metadata": {},
   "outputs": [],
   "source": [
    "#Replacing URLs with a simple string \n",
    "df['Subject'] = df['Subject'].str.replace(r'^http\\://[a-zA-Z0-9\\-\\.]+\\.[a-zA-Z]{2,3}(/\\S*)?$','url')\n",
    "df['Description'] = df['Description'].str.replace(r'^http\\://[a-zA-Z0-9\\-\\.]+\\.[a-zA-Z]{2,3}(/\\S*)?$','url')\n",
    "\n"
   ]
  },
  {
   "cell_type": "code",
   "execution_count": 8,
   "metadata": {},
   "outputs": [],
   "source": [
    "#Replacing Numbers with a simple string numbr\n",
    "df['Subject'] = df['Subject'].str.replace(r'\\d+(\\.\\d+)?','numbr')\n",
    "df['Description'] = df['Description'].str.replace(r'\\d+(\\.\\d+)?','numbr')\n"
   ]
  },
  {
   "cell_type": "code",
   "execution_count": 9,
   "metadata": {},
   "outputs": [],
   "source": [
    "#Removing Punctuation\n",
    "df['Subject'] = df['Subject'].str.replace(r'[^\\w\\d\\s]',' ')\n",
    "df['Description'] = df['Description'].str.replace(r'[^\\w\\d\\s]',' ')\n"
   ]
  },
  {
   "cell_type": "code",
   "execution_count": 10,
   "metadata": {},
   "outputs": [],
   "source": [
    "# Removing Whitespace between terms with a single space\n",
    "df['Subject'] = df['Subject'].str.replace(r'\\s+',' ')\n",
    "df['Description'] = df['Description'].str.replace(r'\\s+',' ')\n",
    "\n",
    "df['Case Owner'] = df['Case Owner'].str.replace(r'\\s+',' ')\n"
   ]
  },
  {
   "cell_type": "code",
   "execution_count": 11,
   "metadata": {},
   "outputs": [],
   "source": [
    "# Replace 10 Digit Phone Numbers with a single string \n",
    "df['Subject'] = df['Subject'].str.replace(r'^\\(?[\\d]{3}\\)?[\\s-]?[\\d]{3}[\\s-]?[\\d]{4}$','phoneno')\n",
    "df['Description'] = df['Description'].str.replace(r'^\\(?[\\d]{3}\\)?[\\s-]?[\\d]{3}[\\s-]?[\\d]{4}$','phoneno')\n",
    "\n",
    "\n"
   ]
  },
  {
   "cell_type": "code",
   "execution_count": 12,
   "metadata": {},
   "outputs": [],
   "source": [
    "# Change Words to LowerCase\n",
    "\n",
    "df['Subject'] = df['Subject'].str.lower()\n",
    "df['Description'] = df['Description'].str.lower()\n",
    "df['Case Owner'] = df['Case Owner'].str.lower()\n"
   ]
  },
  {
   "cell_type": "code",
   "execution_count": 13,
   "metadata": {},
   "outputs": [],
   "source": [
    "# Import StopWords, apply to each Column in order to filter from the same\n",
    "from nltk.corpus import stopwords\n",
    "stop_words = set(stopwords.words('english'))\n",
    "df['Subject'] = df['Subject'].apply(lambda x: \" \".join(x.lower() for x in str(x).split() \\\n",
    "                                    if x not in stop_words))\n",
    "df['Description'] = df['Description'].apply(lambda x: \" \".join(x.lower() for x in str(x).split() \\\n",
    "                                    if x not in stop_words))\n",
    "df['Case Owner'] = df['Case Owner'].apply(lambda x: \" \".join(x.lower() for x in str(x).split() \\\n",
    "                                    if x not in stop_words))"
   ]
  },
  {
   "cell_type": "code",
   "execution_count": 14,
   "metadata": {},
   "outputs": [],
   "source": [
    "# Remove Word Stems using a PorterStemmer\n",
    "from nltk.stem import PorterStemmer\n",
    "ps = PorterStemmer()\n",
    "df['Subject'] = df['Subject'].apply(lambda x: ' '.join(\n",
    "    ps.stem(term) for term in str(x).split()))\n",
    "df['Description']= df['Description'].apply(lambda x: ' '.join(\n",
    "    ps.stem(term) for term in str(x).split()))"
   ]
  },
  {
   "cell_type": "code",
   "execution_count": 15,
   "metadata": {},
   "outputs": [],
   "source": [
    "df['Queue in Salesforce'] = y\n",
    "df.drop(['Unnamed: 6'], axis = 1, inplace = True)"
   ]
  },
  {
   "cell_type": "code",
   "execution_count": 16,
   "metadata": {},
   "outputs": [],
   "source": [
    "df.drop(['Closed'],1,inplace = True)\n",
    "X = pd.DataFrame(df.drop(['Queue in Salesforce'],1))\n",
    "y = pd.DataFrame(y)\n"
   ]
  },
  {
   "cell_type": "markdown",
   "metadata": {},
   "source": [
    "Feature Engineering\n"
   ]
  },
  {
   "cell_type": "code",
   "execution_count": 17,
   "metadata": {},
   "outputs": [],
   "source": [
    "from sklearn.feature_extraction.text import TfidfVectorizer\n",
    "# Create feature vectors\n",
    "vectorizer1 = TfidfVectorizer(min_df = 5,\n",
    "                             sublinear_tf = True,\n",
    "                             use_idf = True,\n",
    "                             max_features = 5000)\n",
    "vectorizer2 = TfidfVectorizer(min_df = 5,\n",
    "                              sublinear_tf = True,\n",
    "                              use_idf = True,\n",
    "                              max_features = 1000)\n",
    "feature_vector1 = vectorizer2.fit_transform(df['Subject'])\n",
    "feature_vector2 = vectorizer1.fit_transform(df['Description'])\n",
    "#feature_vector3 = vectorizer.fit_transform(df['Case Owner'])\n",
    "a = feature_vector1.todense()\n",
    "b = feature_vector2.todense()\n",
    "#c = feature_vector3.todense()"
   ]
  },
  {
   "cell_type": "code",
   "execution_count": 18,
   "metadata": {},
   "outputs": [],
   "source": [
    "#from nltk.tokenize import word_tokenize\n",
    "#subject_words = []\n",
    "#description_words = []\n",
    "#for message in df['Subject'] :\n",
    "    #words = word_tokenize(message)\n",
    "    #for w in words :\n",
    "        #subject_words.append(w)\n",
    "#for message in df['Description'] :\n",
    "    #words = word_tokenize(message)\n",
    "    #for w in words :\n",
    "        #description_words.append(w)\n",
    "#subject_words = nltk.FreqDist(subject_words)\n",
    "#description_words = nltk.FreqDist(description_words)\n",
    "\n",
    "\n",
    "    "
   ]
  },
  {
   "cell_type": "code",
   "execution_count": 28,
   "metadata": {},
   "outputs": [],
   "source": [
    "#subject_features = encoder.fit_transform(list(subject_words.keys())[:3000])\n",
    "#description_features = encoder.fit_transform(list(description_words.keys())[:3000])\n",
    "\n",
    "\n",
    "\n",
    "#def find_features(message) :\n",
    "    #words = word_tokenize(message)\n",
    "    #features = {}\n",
    "    #for word in subject_features :\n",
    "        #features1[word] = (word in words)\n",
    "    #for word in description_features :\n",
    "        #features2[word] = (word in words)\n",
    "    #return features1,features2\n",
    "\n"
   ]
  },
  {
   "cell_type": "code",
   "execution_count": 18,
   "metadata": {},
   "outputs": [],
   "source": [
    "df1 = pd.DataFrame(a)\n",
    "df2 = pd.DataFrame(b)\n",
    "#df3 = pd.DataFrame(c)"
   ]
  },
  {
   "cell_type": "code",
   "execution_count": 19,
   "metadata": {},
   "outputs": [],
   "source": [
    "dfc = pd.concat([df1,df2],axis =1)"
   ]
  },
  {
   "cell_type": "code",
   "execution_count": null,
   "metadata": {},
   "outputs": [],
   "source": [
    "#dftrain = pd.concat([dfc,df3],axis = 1)"
   ]
  },
  {
   "cell_type": "code",
   "execution_count": 20,
   "metadata": {},
   "outputs": [],
   "source": [
    "from sklearn.model_selection import train_test_split\n",
    "X_train, X_test, y_train, y_test = train_test_split(dfc, y, test_size=0.15, random_state=3)\n"
   ]
  },
  {
   "cell_type": "code",
   "execution_count": 22,
   "metadata": {},
   "outputs": [],
   "source": [
    "from sklearn.linear_model import LogisticRegression\n",
    "#from sklearn.model_selection import GridSearchCV\n",
    "# Create regularization penalty space\n",
    "#penalty = ['l1', 'l2']\n",
    "\n",
    "# Create regularization hyperparameter space\n",
    "#C = np.logspace(0, 4, 10)\n",
    "\n",
    "# Create hyperparameter options\n",
    "#hyperparameters = dict(C=C, penalty=penalty)"
   ]
  },
  {
   "cell_type": "code",
   "execution_count": 23,
   "metadata": {},
   "outputs": [
    {
     "name": "stderr",
     "output_type": "stream",
     "text": [
      "//anaconda3/lib/python3.7/site-packages/sklearn/utils/validation.py:724: DataConversionWarning: A column-vector y was passed when a 1d array was expected. Please change the shape of y to (n_samples, ), for example using ravel().\n",
      "  y = column_or_1d(y, warn=True)\n",
      "//anaconda3/lib/python3.7/site-packages/sklearn/linear_model/logistic.py:947: ConvergenceWarning: lbfgs failed to converge. Increase the number of iterations.\n",
      "  \"of iterations.\", ConvergenceWarning)\n"
     ]
    },
    {
     "data": {
      "text/plain": [
       "array([7, 2, 7, ..., 4, 7, 2])"
      ]
     },
     "execution_count": 23,
     "metadata": {},
     "output_type": "execute_result"
    }
   ],
   "source": [
    "LR = LogisticRegression(multi_class=\"multinomial\",solver=\"lbfgs\")\n",
    "\n",
    "#LRcv=GridSearchCV(LR,hyperparameters,cv=5,verbose = 0)\n",
    "LR.fit(X_train,y_train)\n",
    "LR.predict(X_test)"
   ]
  },
  {
   "cell_type": "code",
   "execution_count": 24,
   "metadata": {},
   "outputs": [
    {
     "name": "stdout",
     "output_type": "stream",
     "text": [
      "Classification Accuracy : 0.8362026318393193\n",
      "[[   5    0    4    0    0    0    0  118    0]\n",
      " [   0  614  419    3   59    0   22   17   43]\n",
      " [   1  161 5455   15   41    0  105  388  175]\n",
      " [   0    9   60  279  149    0   15   36    4]\n",
      " [   0   36   99   19 1415    0    2   16    1]\n",
      " [   0    0    4    0    1   12    0    2    1]\n",
      " [   0   42  347    7   12    0  216   31   18]\n",
      " [   1    2  342   14    8    0    4 8177    8]\n",
      " [   0   58  341    1   18    0   13   19  730]]\n",
      "              precision    recall  f1-score   support\n",
      "\n",
      "           0       0.71      0.04      0.07       127\n",
      "           1       0.67      0.52      0.59      1177\n",
      "           2       0.77      0.86      0.81      6341\n",
      "           3       0.83      0.51      0.63       552\n",
      "           4       0.83      0.89      0.86      1588\n",
      "           5       1.00      0.60      0.75        20\n",
      "           6       0.57      0.32      0.41       673\n",
      "           7       0.93      0.96      0.94      8556\n",
      "           8       0.74      0.62      0.68      1180\n",
      "\n",
      "    accuracy                           0.84     20214\n",
      "   macro avg       0.78      0.59      0.64     20214\n",
      "weighted avg       0.83      0.84      0.83     20214\n",
      "\n"
     ]
    }
   ],
   "source": [
    "from sklearn.metrics import classification_report, confusion_matrix, accuracy_score\n",
    "\n",
    "predict = LR.predict(X_test)\n",
    "print('Classification Accuracy : ' + str(accuracy_score(y_test, predict)))\n",
    "print(confusion_matrix(y_test,predict))\n",
    "print(classification_report(y_test,predict))\n"
   ]
  },
  {
   "cell_type": "code",
   "execution_count": null,
   "metadata": {},
   "outputs": [],
   "source": [
    "3from sklearn.svm import SVC"
   ]
  },
  {
   "cell_type": "code",
   "execution_count": null,
   "metadata": {},
   "outputs": [],
   "source": [
    "svc = SVC()\n",
    "svc.fit(X_train,y_train)\n",
    "preds = svc.predict(X_test)\n",
    "print(accuracy_score(y_test, preds))\n",
    "print(confusion_matrix(y_test,preds))\n",
    "print(classification_report(y_test,preds))"
   ]
  },
  {
   "cell_type": "code",
   "execution_count": null,
   "metadata": {},
   "outputs": [],
   "source": [
    "from sklearn.linear_model import SGDClassifier\n",
    "classifier = SGDClassifier(alpha=0.00001)\n",
    "classifier.fit(X_train,y_train)\n",
    "pred = classifier.predict(X_test)\n",
    "print(accuracy_score(y_test, pred))\n",
    "print(confusion_matrix(y_test,pred))\n",
    "print(classification_report(y_test,pred))"
   ]
  },
  {
   "cell_type": "markdown",
   "metadata": {},
   "source": [
    "dftrain.shape"
   ]
  },
  {
   "cell_type": "code",
   "execution_count": 27,
   "metadata": {},
   "outputs": [
    {
     "name": "stderr",
     "output_type": "stream",
     "text": [
      "//anaconda3/lib/python3.7/site-packages/sklearn/utils/validation.py:724: DataConversionWarning: A column-vector y was passed when a 1d array was expected. Please change the shape of y to (n_samples, ), for example using ravel().\n",
      "  y = column_or_1d(y, warn=True)\n"
     ]
    },
    {
     "name": "stdout",
     "output_type": "stream",
     "text": [
      "Classification Accuracy0.7770851884832295\n",
      "[[  15    0   15    1    0    0    0   96    0]\n",
      " [   3  571  497    3   19    0   28    7   49]\n",
      " [   5  211 5308   49   18    7  202  279  262]\n",
      " [   1   16   92  258  134    0   30   15    6]\n",
      " [   9  100  246   11 1190    0   19    7    6]\n",
      " [   0    0   12    1    0    1    2    2    2]\n",
      " [   3   36  327   15    9    1  240   20   22]\n",
      " [ 141   17  801   70   11    0   40 7455   21]\n",
      " [   1   69  407    1    8    0   12   12  670]]\n",
      "              precision    recall  f1-score   support\n",
      "\n",
      "           0       0.08      0.12      0.10       127\n",
      "           1       0.56      0.49      0.52      1177\n",
      "           2       0.69      0.84      0.76      6341\n",
      "           3       0.63      0.47      0.54       552\n",
      "           4       0.86      0.75      0.80      1588\n",
      "           5       0.11      0.05      0.07        20\n",
      "           6       0.42      0.36      0.39       673\n",
      "           7       0.94      0.87      0.91      8556\n",
      "           8       0.65      0.57      0.60      1180\n",
      "\n",
      "    accuracy                           0.78     20214\n",
      "   macro avg       0.55      0.50      0.52     20214\n",
      "weighted avg       0.79      0.78      0.78     20214\n",
      "\n"
     ]
    }
   ],
   "source": [
    "from sklearn.naive_bayes import MultinomialNB\n",
    "clf = MultinomialNB()\n",
    "model = clf.fit(X_train,y_train)\n",
    "pred = model.predict(X_test)\n",
    "print('Classification Accuracy' + str(accuracy_score(y_test, pred)))\n",
    "print(confusion_matrix(y_test,pred))\n",
    "print(classification_report(y_test,pred))"
   ]
  },
  {
   "cell_type": "code",
   "execution_count": null,
   "metadata": {},
   "outputs": [],
   "source": []
  },
  {
   "cell_type": "code",
   "execution_count": null,
   "metadata": {},
   "outputs": [],
   "source": []
  },
  {
   "cell_type": "markdown",
   "metadata": {},
   "source": [
    "### "
   ]
  }
 ],
 "metadata": {
  "kernelspec": {
   "display_name": "Python 3",
   "language": "python",
   "name": "python3"
  },
  "language_info": {
   "codemirror_mode": {
    "name": "ipython",
    "version": 3
   },
   "file_extension": ".py",
   "mimetype": "text/x-python",
   "name": "python",
   "nbconvert_exporter": "python",
   "pygments_lexer": "ipython3",
   "version": "3.7.3"
  }
 },
 "nbformat": 4,
 "nbformat_minor": 4
}
